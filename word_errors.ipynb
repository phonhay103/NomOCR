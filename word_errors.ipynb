{
 "cells": [
  {
   "cell_type": "code",
   "execution_count": 2,
   "id": "ec8260d5-b216-4b9f-805f-48599807e775",
   "metadata": {},
   "outputs": [],
   "source": [
    "import pandas as pd\n",
    "import matplotlib.pyplot as plt"
   ]
  },
  {
   "cell_type": "code",
   "execution_count": 3,
   "id": "ca6a6887-38a1-46fd-8b0f-ee69d3e740c3",
   "metadata": {},
   "outputs": [],
   "source": [
    "df = pd.read_csv('word_errors.csv')"
   ]
  },
  {
   "cell_type": "code",
   "execution_count": 4,
   "id": "09bd60ee-bd46-49db-b9fc-602e55357ac7",
   "metadata": {},
   "outputs": [
    {
     "data": {
      "text/html": [
       "<div>\n",
       "<style scoped>\n",
       "    .dataframe tbody tr th:only-of-type {\n",
       "        vertical-align: middle;\n",
       "    }\n",
       "\n",
       "    .dataframe tbody tr th {\n",
       "        vertical-align: top;\n",
       "    }\n",
       "\n",
       "    .dataframe thead th {\n",
       "        text-align: right;\n",
       "    }\n",
       "</style>\n",
       "<table border=\"1\" class=\"dataframe\">\n",
       "  <thead>\n",
       "    <tr style=\"text-align: right;\">\n",
       "      <th></th>\n",
       "      <th>Label</th>\n",
       "      <th>Count</th>\n",
       "    </tr>\n",
       "  </thead>\n",
       "  <tbody>\n",
       "    <tr>\n",
       "      <th>21</th>\n",
       "      <td>313EB</td>\n",
       "      <td>67</td>\n",
       "    </tr>\n",
       "    <tr>\n",
       "      <th>41</th>\n",
       "      <td>5E84</td>\n",
       "      <td>58</td>\n",
       "    </tr>\n",
       "    <tr>\n",
       "      <th>18</th>\n",
       "      <td>522B</td>\n",
       "      <td>49</td>\n",
       "    </tr>\n",
       "    <tr>\n",
       "      <th>47</th>\n",
       "      <td>7DA0</td>\n",
       "      <td>48</td>\n",
       "    </tr>\n",
       "    <tr>\n",
       "      <th>79</th>\n",
       "      <td>F0832</td>\n",
       "      <td>46</td>\n",
       "    </tr>\n",
       "    <tr>\n",
       "      <th>...</th>\n",
       "      <td>...</td>\n",
       "      <td>...</td>\n",
       "    </tr>\n",
       "    <tr>\n",
       "      <th>352</th>\n",
       "      <td>5FC3</td>\n",
       "      <td>1</td>\n",
       "    </tr>\n",
       "    <tr>\n",
       "      <th>34</th>\n",
       "      <td>516D</td>\n",
       "      <td>1</td>\n",
       "    </tr>\n",
       "    <tr>\n",
       "      <th>354</th>\n",
       "      <td>51AC</td>\n",
       "      <td>1</td>\n",
       "    </tr>\n",
       "    <tr>\n",
       "      <th>186</th>\n",
       "      <td>6599</td>\n",
       "      <td>1</td>\n",
       "    </tr>\n",
       "    <tr>\n",
       "      <th>388</th>\n",
       "      <td>5B98</td>\n",
       "      <td>1</td>\n",
       "    </tr>\n",
       "  </tbody>\n",
       "</table>\n",
       "<p>389 rows × 2 columns</p>\n",
       "</div>"
      ],
      "text/plain": [
       "     Label  Count\n",
       "21   313EB     67\n",
       "41    5E84     58\n",
       "18    522B     49\n",
       "47    7DA0     48\n",
       "79   F0832     46\n",
       "..     ...    ...\n",
       "352   5FC3      1\n",
       "34    516D      1\n",
       "354   51AC      1\n",
       "186   6599      1\n",
       "388   5B98      1\n",
       "\n",
       "[389 rows x 2 columns]"
      ]
     },
     "execution_count": 4,
     "metadata": {},
     "output_type": "execute_result"
    }
   ],
   "source": [
    "df = df.sort_values('Count', ascending=False)\n",
    "df"
   ]
  },
  {
   "cell_type": "code",
   "execution_count": 5,
   "id": "28f44a47-77f4-4671-8af3-47d5cc567aed",
   "metadata": {},
   "outputs": [
    {
     "data": {
      "text/html": [
       "<div>\n",
       "<style scoped>\n",
       "    .dataframe tbody tr th:only-of-type {\n",
       "        vertical-align: middle;\n",
       "    }\n",
       "\n",
       "    .dataframe tbody tr th {\n",
       "        vertical-align: top;\n",
       "    }\n",
       "\n",
       "    .dataframe thead th {\n",
       "        text-align: right;\n",
       "    }\n",
       "</style>\n",
       "<table border=\"1\" class=\"dataframe\">\n",
       "  <thead>\n",
       "    <tr style=\"text-align: right;\">\n",
       "      <th></th>\n",
       "      <th>Count</th>\n",
       "    </tr>\n",
       "  </thead>\n",
       "  <tbody>\n",
       "    <tr>\n",
       "      <th>count</th>\n",
       "      <td>389.000000</td>\n",
       "    </tr>\n",
       "    <tr>\n",
       "      <th>mean</th>\n",
       "      <td>9.508997</td>\n",
       "    </tr>\n",
       "    <tr>\n",
       "      <th>std</th>\n",
       "      <td>9.702696</td>\n",
       "    </tr>\n",
       "    <tr>\n",
       "      <th>min</th>\n",
       "      <td>1.000000</td>\n",
       "    </tr>\n",
       "    <tr>\n",
       "      <th>25%</th>\n",
       "      <td>3.000000</td>\n",
       "    </tr>\n",
       "    <tr>\n",
       "      <th>50%</th>\n",
       "      <td>7.000000</td>\n",
       "    </tr>\n",
       "    <tr>\n",
       "      <th>75%</th>\n",
       "      <td>12.000000</td>\n",
       "    </tr>\n",
       "    <tr>\n",
       "      <th>max</th>\n",
       "      <td>67.000000</td>\n",
       "    </tr>\n",
       "  </tbody>\n",
       "</table>\n",
       "</div>"
      ],
      "text/plain": [
       "            Count\n",
       "count  389.000000\n",
       "mean     9.508997\n",
       "std      9.702696\n",
       "min      1.000000\n",
       "25%      3.000000\n",
       "50%      7.000000\n",
       "75%     12.000000\n",
       "max     67.000000"
      ]
     },
     "execution_count": 5,
     "metadata": {},
     "output_type": "execute_result"
    }
   ],
   "source": [
    "df.describe()"
   ]
  },
  {
   "cell_type": "code",
   "execution_count": 6,
   "id": "9b115e49-d953-4a70-970d-8911df396ce8",
   "metadata": {},
   "outputs": [
    {
     "data": {
      "image/png": "[encoded data removed]",
      "text/plain": [
       "<Figure size 640x480 with 1 Axes>"
      ]
     },
     "metadata": {},
     "output_type": "display_data"
    }
   ],
   "source": [
    "df.Count.plot(kind='hist', bins=30)\n",
    "\n",
    "plt.xlabel(\"Số lỗi sai\")\n",
    "plt.ylabel(\"Số từ\")\n",
    "# plt.title(\"Phân bố số từ có cùng lỗi sai\")\n",
    "\n",
    "# plt.show()\n",
    "plt.grid()\n",
    "plt.savefig(\"word_error_nom_histogram.png\", dpi=300)"
   ]
  },
  {
   "cell_type": "code",
   "execution_count": null,
   "id": "a6b05ddf-b633-4acc-9d51-6c3880446f18",
   "metadata": {},
   "outputs": [],
   "source": [
    "df_all = df.Label.values\n",
    "df_25 = df[df.Count >= df.Count.quantile(0.25)].Label.values\n",
    "df_50 = df[df.Count >= df.Count.quantile(0.50)].Label.values\n",
    "df_75 = df[df.Count >= df.Count.quantile(0.75)].Label.values\n",
    "df_mean = df[df.Count >= df.Count.mean()].Label.values"
   ]
  },
  {
   "cell_type": "code",
   "execution_count": null,
   "id": "16fe7f1e-7b1b-4b66-97a2-c5c2e1c03f1e",
   "metadata": {},
   "outputs": [],
   "source": [
    "with open('NOM_CGGAN_train.txt') as f:\n",
    "    lines = f.read().splitlines()\n",
    "len(lines)"
   ]
  },
  {
   "cell_type": "code",
   "execution_count": null,
   "id": "5702d3a1-d79a-43a2-9038-4abdb77ede05",
   "metadata": {},
   "outputs": [],
   "source": [
    "data_all = [line for line in lines if line.split('\\t')[1] in df_all]\n",
    "data_25 = [line for line in lines if line.split('\\t')[1] in df_25]\n",
    "data_50 = [line for line in lines if line.split('\\t')[1] in df_50]\n",
    "data_mean = [line for line in lines if line.split('\\t')[1] in df_mean]\n",
    "data_75 = [line for line in lines if line.split('\\t')[1] in df_75]"
   ]
  },
  {
   "cell_type": "code",
   "execution_count": null,
   "id": "ca18517d-7d57-419e-b244-f505a5b000bd",
   "metadata": {},
   "outputs": [],
   "source": [
    "with open('NOM_CGGAN_errors_all.txt', 'w') as f:\n",
    "    f.write('\\n'.join(data_all).rstrip())"
   ]
  },
  {
   "cell_type": "code",
   "execution_count": null,
   "id": "c510a6f8-a746-4701-8942-e795fe39aca8",
   "metadata": {},
   "outputs": [],
   "source": [
    "with open('NOM_CGGAN_errors_Q1.txt', 'w') as f:\n",
    "    f.write('\\n'.join(data_25).rstrip())"
   ]
  },
  {
   "cell_type": "code",
   "execution_count": null,
   "id": "81292df6-663c-4fde-b935-efa5d9224862",
   "metadata": {},
   "outputs": [],
   "source": [
    "with open('NOM_CGGAN_errors_Q2.txt', 'w') as f:\n",
    "    f.write('\\n'.join(data_50).rstrip())"
   ]
  },
  {
   "cell_type": "code",
   "execution_count": null,
   "id": "a6364a63-a93b-4e15-afab-913da479ce36",
   "metadata": {},
   "outputs": [],
   "source": [
    "with open('NOM_CGGAN_errors_mean.txt', 'w') as f:\n",
    "    f.write('\\n'.join(data_mean).rstrip())"
   ]
  },
  {
   "cell_type": "code",
   "execution_count": null,
   "id": "5c1b7298-3abd-46a5-88c7-2fc0c9c7c2c2",
   "metadata": {},
   "outputs": [],
   "source": [
    "with open('NOM_CGGAN_errors_Q3.txt', 'w') as f:\n",
    "    f.write('\\n'.join(data_75).rstrip())"
   ]
  },
  {
   "cell_type": "code",
   "execution_count": null,
   "id": "99fde536-5dc2-4be9-8473-0c30071956ba",
   "metadata": {},
   "outputs": [],
   "source": []
  },
  {
   "cell_type": "code",
   "execution_count": null,
   "id": "4476b46c-2cb3-4ba4-9e98-88fd00462a03",
   "metadata": {},
   "outputs": [],
   "source": [
    "import wandb\n",
    "import os\n",
    "import pickle\n",
    "from tqdm import tqdm\n",
    "\n",
    "os.environ['WANDB_API_KEY'] = '41b0abfcc690d5e88d908912bdd809e22b294be0'"
   ]
  },
  {
   "cell_type": "code",
   "execution_count": null,
   "id": "345b6f44",
   "metadata": {
    "scrolled": true
   },
   "outputs": [],
   "source": [
    "with open('NOM_CGGAN_train_26_45.pkl', 'rb') as file:\n",
    "    histories = pickle.load(file)\n",
    "\n",
    "for history in tqdm(histories):\n",
    "    wandb.init(project=\"NomOCR_TPU\", name=\"NEW | VGG16 | CGGAN | ALL\")\n",
    "    acc = history['sparse_categorical_accuracy']\n",
    "    val_acc = history['val_sparse_categorical_accuracy']\n",
    "    loss = history['loss']\n",
    "    val_loss = history['val_loss']\n",
    "    \n",
    "    for i in range(len(acc)):\n",
    "        wandb.log({\n",
    "            'sparse_categorical_accuracy': acc[i],\n",
    "            'val_sparse_categorical_accuracy': val_acc[i],\n",
    "            'loss': loss[i],\n",
    "            'val_loss': val_loss[i],\n",
    "        })\n",
    "    wandb.log({'best_val_sparse_categorical_accuracy': max(val_acc)})\n",
    "    wandb.finish()"
   ]
  },
  {
   "cell_type": "code",
   "execution_count": null,
   "id": "c9e47800",
   "metadata": {},
   "outputs": [],
   "source": []
  }
 ],
 "metadata": {
  "kernelspec": {
   "display_name": "trocr",
   "language": "python",
   "name": "trocr"
  },
  "language_info": {
   "codemirror_mode": {
    "name": "ipython",
    "version": 3
   },
   "file_extension": ".py",
   "mimetype": "text/x-python",
   "name": "python",
   "nbconvert_exporter": "python",
   "pygments_lexer": "ipython3",
   "version": "3.9.13"
  },
  "varInspector": {
   "cols": {
    "lenName": 16,
    "lenType": 16,
    "lenVar": 40
   },
   "kernels_config": {
    "python": {
     "delete_cmd_postfix": "",
     "delete_cmd_prefix": "del ",
     "library": "var_list.py",
     "varRefreshCmd": "print(var_dic_list())"
    },
    "r": {
     "delete_cmd_postfix": ") ",
     "delete_cmd_prefix": "rm(",
     "library": "var_list.r",
     "varRefreshCmd": "cat(var_dic_list()) "
    }
   },
   "types_to_exclude": [
    "module",
    "function",
    "builtin_function_or_method",
    "instance",
    "_Feature"
   ],
   "window_display": false
  },
  "widgets": {
   "application/vnd.jupyter.widget-state+json": {
    "state": {},
    "version_major": 2,
    "version_minor": 0
   }
  }
 },
 "nbformat": 4,
 "nbformat_minor": 5
}
