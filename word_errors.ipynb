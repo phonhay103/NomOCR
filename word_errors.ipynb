{
 "cells": [
  {
   "cell_type": "code",
   "execution_count": null,
   "id": "ec8260d5-b216-4b9f-805f-48599807e775",
   "metadata": {},
   "outputs": [],
   "source": [
    "import pandas as pd\n",
    "import matplotlib.pyplot as plt"
   ]
  },
  {
   "cell_type": "code",
   "execution_count": null,
   "id": "ca6a6887-38a1-46fd-8b0f-ee69d3e740c3",
   "metadata": {},
   "outputs": [],
   "source": [
    "df = pd.read_csv('word_errors.csv')"
   ]
  },
  {
   "cell_type": "code",
   "execution_count": null,
   "id": "09bd60ee-bd46-49db-b9fc-602e55357ac7",
   "metadata": {},
   "outputs": [],
   "source": [
    "df = df.sort_values('Count', ascending=False)\n",
    "df"
   ]
  },
  {
   "cell_type": "code",
   "execution_count": null,
   "id": "28f44a47-77f4-4671-8af3-47d5cc567aed",
   "metadata": {},
   "outputs": [],
   "source": [
    "df.describe()"
   ]
  },
  {
   "cell_type": "code",
   "execution_count": null,
   "id": "9b115e49-d953-4a70-970d-8911df396ce8",
   "metadata": {},
   "outputs": [],
   "source": [
    "df.Count.plot(kind='hist', bins=30)\n",
    "\n",
    "plt.xlabel(\"Số lỗi sai\")\n",
    "plt.ylabel(\"Số ký tự\")\n",
    "# plt.title(\"Phân bố số từ có cùng lỗi sai\")\n",
    "\n",
    "# plt.show()\n",
    "plt.grid()\n",
    "plt.savefig(\"word_error_nom_histogram.png\", dpi=300)"
   ]
  },
  {
   "cell_type": "code",
   "execution_count": null,
   "id": "a6b05ddf-b633-4acc-9d51-6c3880446f18",
   "metadata": {},
   "outputs": [],
   "source": [
    "df_all = df.Label.values\n",
    "df_25 = df[df.Count >= df.Count.quantile(0.25)].Label.values\n",
    "df_50 = df[df.Count >= df.Count.quantile(0.50)].Label.values\n",
    "df_75 = df[df.Count >= df.Count.quantile(0.75)].Label.values"
   ]
  },
  {
   "cell_type": "code",
   "execution_count": null,
   "id": "16fe7f1e-7b1b-4b66-97a2-c5c2e1c03f1e",
   "metadata": {},
   "outputs": [],
   "source": [
    "with open('NOM_CGGAN_train.txt') as f:\n",
    "    lines = f.read().splitlines()\n",
    "len(lines)"
   ]
  },
  {
   "cell_type": "code",
   "execution_count": null,
   "id": "5702d3a1-d79a-43a2-9038-4abdb77ede05",
   "metadata": {},
   "outputs": [],
   "source": [
    "data_all = [line for line in lines if line.split('\\t')[1] in df_all]\n",
    "data_25 = [line for line in lines if line.split('\\t')[1] in df_25]\n",
    "data_50 = [line for line in lines if line.split('\\t')[1] in df_50]\n",
    "data_75 = [line for line in lines if line.split('\\t')[1] in df_75]"
   ]
  },
  {
   "cell_type": "code",
   "execution_count": null,
   "id": "ca18517d-7d57-419e-b244-f505a5b000bd",
   "metadata": {},
   "outputs": [],
   "source": [
    "with open('NOM_CGGAN_errors_all.txt', 'w') as f:\n",
    "    f.write('\\n'.join(data_all).rstrip())"
   ]
  },
  {
   "cell_type": "code",
   "execution_count": null,
   "id": "c510a6f8-a746-4701-8942-e795fe39aca8",
   "metadata": {},
   "outputs": [],
   "source": [
    "with open('NOM_CGGAN_errors_Q1.txt', 'w') as f:\n",
    "    f.write('\\n'.join(data_25).rstrip())"
   ]
  },
  {
   "cell_type": "code",
   "execution_count": null,
   "id": "81292df6-663c-4fde-b935-efa5d9224862",
   "metadata": {},
   "outputs": [],
   "source": [
    "with open('NOM_CGGAN_errors_Q2.txt', 'w') as f:\n",
    "    f.write('\\n'.join(data_50).rstrip())"
   ]
  },
  {
   "cell_type": "code",
   "execution_count": null,
   "id": "5c1b7298-3abd-46a5-88c7-2fc0c9c7c2c2",
   "metadata": {},
   "outputs": [],
   "source": [
    "with open('NOM_CGGAN_errors_Q3.txt', 'w') as f:\n",
    "    f.write('\\n'.join(data_75).rstrip())"
   ]
  },
  {
   "cell_type": "code",
   "execution_count": null,
   "id": "99fde536-5dc2-4be9-8473-0c30071956ba",
   "metadata": {},
   "outputs": [],
   "source": []
  },
  {
   "cell_type": "code",
   "execution_count": null,
   "id": "4476b46c-2cb3-4ba4-9e98-88fd00462a03",
   "metadata": {},
   "outputs": [],
   "source": [
    "import wandb\n",
    "import os\n",
    "import pickle\n",
    "from tqdm import tqdm\n",
    "\n",
    "os.environ['WANDB_API_KEY'] = '41b0abfcc690d5e88d908912bdd809e22b294be0'"
   ]
  },
  {
   "cell_type": "code",
   "execution_count": null,
   "id": "345b6f44",
   "metadata": {
    "scrolled": true
   },
   "outputs": [],
   "source": [
    "with open('NOM_CGGAN_train_26_45.pkl', 'rb') as file:\n",
    "    histories = pickle.load(file)\n",
    "\n",
    "for history in tqdm(histories):\n",
    "    wandb.init(project=\"NomOCR_TPU\", name=\"NEW | VGG16 | CGGAN | ALL\")\n",
    "    acc = history['sparse_categorical_accuracy']\n",
    "    val_acc = history['val_sparse_categorical_accuracy']\n",
    "    loss = history['loss']\n",
    "    val_loss = history['val_loss']\n",
    "    \n",
    "    for i in range(len(acc)):\n",
    "        wandb.log({\n",
    "            'sparse_categorical_accuracy': acc[i],\n",
    "            'val_sparse_categorical_accuracy': val_acc[i],\n",
    "            'loss': loss[i],\n",
    "            'val_loss': val_loss[i],\n",
    "        })\n",
    "    wandb.log({'best_val_sparse_categorical_accuracy': max(val_acc)})\n",
    "    wandb.finish()"
   ]
  },
  {
   "cell_type": "code",
   "execution_count": null,
   "id": "c9e47800",
   "metadata": {},
   "outputs": [],
   "source": []
  }
 ],
 "metadata": {
  "kernelspec": {
   "display_name": "trocr",
   "language": "python",
   "name": "trocr"
  },
  "language_info": {
   "codemirror_mode": {
    "name": "ipython",
    "version": 3
   },
   "file_extension": ".py",
   "mimetype": "text/x-python",
   "name": "python",
   "nbconvert_exporter": "python",
   "pygments_lexer": "ipython3",
   "version": "3.9.13"
  },
  "varInspector": {
   "cols": {
    "lenName": 16,
    "lenType": 16,
    "lenVar": 40
   },
   "kernels_config": {
    "python": {
     "delete_cmd_postfix": "",
     "delete_cmd_prefix": "del ",
     "library": "var_list.py",
     "varRefreshCmd": "print(var_dic_list())"
    },
    "r": {
     "delete_cmd_postfix": ") ",
     "delete_cmd_prefix": "rm(",
     "library": "var_list.r",
     "varRefreshCmd": "cat(var_dic_list()) "
    }
   },
   "types_to_exclude": [
    "module",
    "function",
    "builtin_function_or_method",
    "instance",
    "_Feature"
   ],
   "window_display": false
  },
  "widgets": {
   "application/vnd.jupyter.widget-state+json": {
    "state": {},
    "version_major": 2,
    "version_minor": 0
   }
  }
 },
 "nbformat": 4,
 "nbformat_minor": 5
}
