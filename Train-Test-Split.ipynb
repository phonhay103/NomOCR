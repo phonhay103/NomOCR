{
 "cells": [
  {
   "cell_type": "code",
   "execution_count": 1,
   "id": "3d81f823",
   "metadata": {},
   "outputs": [],
   "source": [
    "import matplotlib.pyplot as plt\n",
    "\n",
    "from collections import Counter\n",
    "from sklearn.model_selection import train_test_split"
   ]
  },
  {
   "cell_type": "code",
   "execution_count": 2,
   "id": "a0a7e61a",
   "metadata": {},
   "outputs": [],
   "source": [
    "with open('all_images.txt') as f:\n",
    "    lines = f.read().splitlines()"
   ]
  },
  {
   "cell_type": "code",
   "execution_count": 3,
   "id": "b3bec04e",
   "metadata": {},
   "outputs": [],
   "source": [
    "labels = [line.split('\\t')[1] for line in lines]\n",
    "counter = Counter(labels)"
   ]
  },
  {
   "cell_type": "code",
   "execution_count": 4,
   "id": "b9b11223",
   "metadata": {},
   "outputs": [
    {
     "data": {
      "image/png": "[encoded data removed]",
      "text/plain": [
       "<Figure size 640x480 with 1 Axes>"
      ]
     },
     "metadata": {},
     "output_type": "display_data"
    }
   ],
   "source": [
    "counts = counter.values()\n",
    "plt.bar(range(len(counts)), counts)\n",
    "plt.xlabel('Labels')\n",
    "plt.ylabel('Counts')\n",
    "plt.title('Label Histogram')\n",
    "plt.show()"
   ]
  },
  {
   "cell_type": "code",
   "execution_count": 43,
   "id": "392383c9",
   "metadata": {},
   "outputs": [],
   "source": [
    "filter_counter = {k: v for k, v in counter.items() if v < 10} # TODO\n",
    "filter_labels = list(filter_counter.keys()) + ['Nom-Script']\n",
    "new_lines = [line for line in lines if line.split('\\t')[1] not in filter_labels]\n",
    "labels = [line.split('\\t')[1] for line in new_lines]\n",
    "filenames = [line.split('\\t')[0] for line in new_lines]"
   ]
  },
  {
   "cell_type": "code",
   "execution_count": 44,
   "id": "55506379",
   "metadata": {},
   "outputs": [],
   "source": [
    "label_to_index = {label: index for index, label in enumerate(labels)}\n",
    "# labels = [label_to_index[label] for label in labels]"
   ]
  },
  {
   "cell_type": "code",
   "execution_count": 45,
   "id": "aeb3cb99",
   "metadata": {},
   "outputs": [],
   "source": [
    "train_filenames, test_filenames, train_labels, test_labels = train_test_split(\n",
    "    filenames, labels, test_size=0.3, stratify=labels, # TODO\n",
    ")"
   ]
  },
  {
   "cell_type": "code",
   "execution_count": 46,
   "id": "07fa241d",
   "metadata": {},
   "outputs": [],
   "source": [
    "with open('NomOCR_train.txt', 'w') as f:\n",
    "    train_data = [filename + '\\t' + str(label) for filename, label in zip(train_filenames, train_labels)]\n",
    "    f.write('\\n'.join(train_data).rstrip())"
   ]
  },
  {
   "cell_type": "code",
   "execution_count": 47,
   "id": "a9bc2bcd",
   "metadata": {},
   "outputs": [],
   "source": [
    "with open('NomOCR_test.txt', 'w') as f:\n",
    "    test_data = [filename + '\\t' + str(label) for filename, label in zip(test_filenames, test_labels)]\n",
    "    f.write('\\n'.join(test_data).rstrip())"
   ]
  },
  {
   "cell_type": "code",
   "execution_count": null,
   "id": "bf81691c",
   "metadata": {},
   "outputs": [],
   "source": []
  }
 ],
 "metadata": {
  "kernelspec": {
   "display_name": "Python 3 (ipykernel)",
   "language": "python",
   "name": "python3"
  },
  "language_info": {
   "codemirror_mode": {
    "name": "ipython",
    "version": 3
   },
   "file_extension": ".py",
   "mimetype": "text/x-python",
   "name": "python",
   "nbconvert_exporter": "python",
   "pygments_lexer": "ipython3",
   "version": "3.11.3"
  }
 },
 "nbformat": 4,
 "nbformat_minor": 5
}
